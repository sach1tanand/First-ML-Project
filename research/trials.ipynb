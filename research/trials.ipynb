{
 "cells": [
  {
   "metadata": {
    "ExecuteTime": {
     "end_time": "2025-10-19T10:35:46.755852Z",
     "start_time": "2025-10-19T10:35:46.752491Z"
    }
   },
   "cell_type": "code",
   "source": "#Python config box",
   "id": "e07dadf2fdfbf145",
   "outputs": [],
   "execution_count": 1
  },
  {
   "metadata": {
    "ExecuteTime": {
     "end_time": "2025-10-19T10:36:11.238217Z",
     "start_time": "2025-10-19T10:36:11.235165Z"
    }
   },
   "cell_type": "code",
   "source": [
    "from charset_normalizer.md import annotations\n",
    "\n",
    "d={\"key1\":\"value1\",\"key2\":\"value2\",\"key3\":\"value3\"}"
   ],
   "id": "b2b429345af0765b",
   "outputs": [],
   "execution_count": 2
  },
  {
   "metadata": {
    "ExecuteTime": {
     "end_time": "2025-10-19T10:36:26.583479Z",
     "start_time": "2025-10-19T10:36:26.577884Z"
    }
   },
   "cell_type": "code",
   "source": "d['key1']",
   "id": "de7dd3552d1a00e9",
   "outputs": [
    {
     "data": {
      "text/plain": [
       "'value1'"
      ]
     },
     "execution_count": 3,
     "metadata": {},
     "output_type": "execute_result"
    }
   ],
   "execution_count": 3
  },
  {
   "metadata": {
    "ExecuteTime": {
     "end_time": "2025-10-19T10:36:39.413121Z",
     "start_time": "2025-10-19T10:36:39.242497Z"
    }
   },
   "cell_type": "code",
   "source": "d.key1",
   "id": "474553d8af7aee9c",
   "outputs": [
    {
     "ename": "AttributeError",
     "evalue": "'dict' object has no attribute 'key1'",
     "output_type": "error",
     "traceback": [
      "\u001B[31m---------------------------------------------------------------------------\u001B[39m",
      "\u001B[31mAttributeError\u001B[39m                            Traceback (most recent call last)",
      "\u001B[36mCell\u001B[39m\u001B[36m \u001B[39m\u001B[32mIn[4]\u001B[39m\u001B[32m, line 1\u001B[39m\n\u001B[32m----> \u001B[39m\u001B[32m1\u001B[39m \u001B[43md\u001B[49m\u001B[43m.\u001B[49m\u001B[43mkey1\u001B[49m\n",
      "\u001B[31mAttributeError\u001B[39m: 'dict' object has no attribute 'key1'"
     ]
    }
   ],
   "execution_count": 4
  },
  {
   "metadata": {
    "ExecuteTime": {
     "end_time": "2025-10-19T10:39:49.085743Z",
     "start_time": "2025-10-19T10:39:49.028496Z"
    }
   },
   "cell_type": "code",
   "source": "from box import ConfigBox",
   "id": "ade3a595c4e9e19e",
   "outputs": [],
   "execution_count": 12
  },
  {
   "metadata": {
    "ExecuteTime": {
     "end_time": "2025-10-19T10:44:22.505045Z",
     "start_time": "2025-10-19T10:44:22.501915Z"
    }
   },
   "cell_type": "code",
   "source": "d2=ConfigBox({\"key1\":\"value1\",\"key2\":\"value2\",\"key3\":\"value3\"})",
   "id": "d31164ae4a5315eb",
   "outputs": [],
   "execution_count": 28
  },
  {
   "metadata": {
    "ExecuteTime": {
     "end_time": "2025-10-19T10:44:23.148476Z",
     "start_time": "2025-10-19T10:44:23.144618Z"
    }
   },
   "cell_type": "code",
   "source": "d2",
   "id": "6fd306a40d701f04",
   "outputs": [
    {
     "data": {
      "text/plain": [
       "ConfigBox({'key1': 'value1', 'key2': 'value2', 'key3': 'value3'})"
      ]
     },
     "execution_count": 29,
     "metadata": {},
     "output_type": "execute_result"
    }
   ],
   "execution_count": 29
  },
  {
   "metadata": {
    "ExecuteTime": {
     "end_time": "2025-10-19T10:44:23.857938Z",
     "start_time": "2025-10-19T10:44:23.853915Z"
    }
   },
   "cell_type": "code",
   "source": "type(d2)",
   "id": "e6ef1e1bbcd5cb63",
   "outputs": [
    {
     "data": {
      "text/plain": [
       "box.config_box.ConfigBox"
      ]
     },
     "execution_count": 30,
     "metadata": {},
     "output_type": "execute_result"
    }
   ],
   "execution_count": 30
  },
  {
   "metadata": {
    "ExecuteTime": {
     "end_time": "2025-10-19T10:44:24.624048Z",
     "start_time": "2025-10-19T10:44:24.620027Z"
    }
   },
   "cell_type": "code",
   "source": "type(d)",
   "id": "be9638c963001cbc",
   "outputs": [
    {
     "data": {
      "text/plain": [
       "dict"
      ]
     },
     "execution_count": 31,
     "metadata": {},
     "output_type": "execute_result"
    }
   ],
   "execution_count": 31
  },
  {
   "metadata": {
    "ExecuteTime": {
     "end_time": "2025-10-19T10:44:25.978180Z",
     "start_time": "2025-10-19T10:44:25.974199Z"
    }
   },
   "cell_type": "code",
   "source": "d2.key1",
   "id": "4c998716436d2842",
   "outputs": [
    {
     "data": {
      "text/plain": [
       "'value1'"
      ]
     },
     "execution_count": 32,
     "metadata": {},
     "output_type": "execute_result"
    }
   ],
   "execution_count": 32
  },
  {
   "metadata": {
    "ExecuteTime": {
     "end_time": "2025-10-19T10:44:33.726629Z",
     "start_time": "2025-10-19T10:44:33.722660Z"
    }
   },
   "cell_type": "code",
   "source": "d2.key3",
   "id": "841b872455374d17",
   "outputs": [
    {
     "data": {
      "text/plain": [
       "'value3'"
      ]
     },
     "execution_count": 33,
     "metadata": {},
     "output_type": "execute_result"
    }
   ],
   "execution_count": 33
  },
  {
   "metadata": {
    "ExecuteTime": {
     "end_time": "2025-10-19T10:44:50.367731Z",
     "start_time": "2025-10-19T10:44:50.364706Z"
    }
   },
   "cell_type": "code",
   "source": "# ensure annotation demo",
   "id": "12979879015602f6",
   "outputs": [],
   "execution_count": 34
  },
  {
   "metadata": {
    "ExecuteTime": {
     "end_time": "2025-10-19T10:45:25.980771Z",
     "start_time": "2025-10-19T10:45:25.977523Z"
    }
   },
   "cell_type": "code",
   "source": [
    "def get_product(x:int,y:int) -> int:\n",
    "    return x*y"
   ],
   "id": "11bffa5b9ab0f200",
   "outputs": [],
   "execution_count": 35
  },
  {
   "metadata": {
    "ExecuteTime": {
     "end_time": "2025-10-19T10:45:41.083202Z",
     "start_time": "2025-10-19T10:45:41.078738Z"
    }
   },
   "cell_type": "code",
   "source": "get_product(x=2,y=3)",
   "id": "d742666cda90f0b7",
   "outputs": [
    {
     "data": {
      "text/plain": [
       "6"
      ]
     },
     "execution_count": 36,
     "metadata": {},
     "output_type": "execute_result"
    }
   ],
   "execution_count": 36
  },
  {
   "metadata": {
    "ExecuteTime": {
     "end_time": "2025-10-19T10:45:58.865936Z",
     "start_time": "2025-10-19T10:45:58.862455Z"
    }
   },
   "cell_type": "code",
   "source": "get_product(x=2,y=\"3\")#misbheving",
   "id": "699b4a05771ef2d9",
   "outputs": [
    {
     "data": {
      "text/plain": [
       "'33'"
      ]
     },
     "execution_count": 37,
     "metadata": {},
     "output_type": "execute_result"
    }
   ],
   "execution_count": 37
  },
  {
   "metadata": {
    "ExecuteTime": {
     "end_time": "2025-10-19T10:48:18.536569Z",
     "start_time": "2025-10-19T10:48:18.522783Z"
    }
   },
   "cell_type": "code",
   "source": "from ensure import ensure_annotations",
   "id": "10358d7eca9cc148",
   "outputs": [],
   "execution_count": 40
  },
  {
   "metadata": {
    "ExecuteTime": {
     "end_time": "2025-10-19T10:50:12.947352Z",
     "start_time": "2025-10-19T10:50:12.944528Z"
    }
   },
   "cell_type": "code",
   "source": [
    "@ensure_annotations\n",
    "def get_product(x:int,y:int) -> int:\n",
    "    return x*y"
   ],
   "id": "cc51a23dffa1dce3",
   "outputs": [],
   "execution_count": 44
  },
  {
   "metadata": {
    "ExecuteTime": {
     "end_time": "2025-10-19T10:50:14.086337Z",
     "start_time": "2025-10-19T10:50:14.082808Z"
    }
   },
   "cell_type": "code",
   "source": "get_product(x=2,y=3)",
   "id": "70b6fa41b5dfb03b",
   "outputs": [
    {
     "data": {
      "text/plain": [
       "6"
      ]
     },
     "execution_count": 45,
     "metadata": {},
     "output_type": "execute_result"
    }
   ],
   "execution_count": 45
  },
  {
   "metadata": {
    "ExecuteTime": {
     "end_time": "2025-10-19T10:50:15.444352Z",
     "start_time": "2025-10-19T10:50:15.386006Z"
    }
   },
   "cell_type": "code",
   "source": "get_product(x=2,y=\"3\")",
   "id": "579d180ec95dcb4e",
   "outputs": [
    {
     "ename": "EnsureError",
     "evalue": "Argument y of type <class 'str'> to <function get_product at 0x000001D9739D5760> does not match annotation type <class 'int'>",
     "output_type": "error",
     "traceback": [
      "\u001B[31m---------------------------------------------------------------------------\u001B[39m",
      "\u001B[31mEnsureError\u001B[39m                               Traceback (most recent call last)",
      "\u001B[36mCell\u001B[39m\u001B[36m \u001B[39m\u001B[32mIn[46]\u001B[39m\u001B[32m, line 1\u001B[39m\n\u001B[32m----> \u001B[39m\u001B[32m1\u001B[39m \u001B[43mget_product\u001B[49m\u001B[43m(\u001B[49m\u001B[43mx\u001B[49m\u001B[43m=\u001B[49m\u001B[32;43m2\u001B[39;49m\u001B[43m,\u001B[49m\u001B[43my\u001B[49m\u001B[43m=\u001B[49m\u001B[33;43m\"\u001B[39;49m\u001B[33;43m3\u001B[39;49m\u001B[33;43m\"\u001B[39;49m\u001B[43m)\u001B[49m\n",
      "\u001B[36mFile \u001B[39m\u001B[32m~\\PycharmProjects\\PythonRedWine\\.venv\\Lib\\site-packages\\ensure\\main.py:845\u001B[39m, in \u001B[36mWrappedFunctionReturn.__call__\u001B[39m\u001B[34m(self, *args, **kwargs)\u001B[39m\n\u001B[32m    840\u001B[39m     \u001B[38;5;28;01mif\u001B[39;00m \u001B[38;5;129;01mnot\u001B[39;00m \u001B[38;5;28misinstance\u001B[39m(value, templ):\n\u001B[32m    841\u001B[39m         msg = (\n\u001B[32m    842\u001B[39m             \u001B[33m\"\u001B[39m\u001B[33mArgument \u001B[39m\u001B[38;5;132;01m{arg}\u001B[39;00m\u001B[33m of type \u001B[39m\u001B[38;5;132;01m{valt}\u001B[39;00m\u001B[33m to \u001B[39m\u001B[38;5;132;01m{f}\u001B[39;00m\u001B[33m \u001B[39m\u001B[33m\"\u001B[39m\n\u001B[32m    843\u001B[39m             \u001B[33m\"\u001B[39m\u001B[33mdoes not match annotation type \u001B[39m\u001B[38;5;132;01m{t}\u001B[39;00m\u001B[33m\"\u001B[39m\n\u001B[32m    844\u001B[39m         )\n\u001B[32m--> \u001B[39m\u001B[32m845\u001B[39m         \u001B[38;5;28;01mraise\u001B[39;00m EnsureError(msg.format(\n\u001B[32m    846\u001B[39m             arg=arg, f=\u001B[38;5;28mself\u001B[39m.f, t=templ, valt=\u001B[38;5;28mtype\u001B[39m(value)\n\u001B[32m    847\u001B[39m         ))\n\u001B[32m    849\u001B[39m return_val = \u001B[38;5;28mself\u001B[39m.f(*args, **kwargs)\n\u001B[32m    850\u001B[39m \u001B[38;5;28;01mif\u001B[39;00m \u001B[38;5;129;01mnot\u001B[39;00m \u001B[38;5;28misinstance\u001B[39m(return_val, \u001B[38;5;28mself\u001B[39m.return_templ):\n",
      "\u001B[31mEnsureError\u001B[39m: Argument y of type <class 'str'> to <function get_product at 0x000001D9739D5760> does not match annotation type <class 'int'>"
     ]
    }
   ],
   "execution_count": 46
  },
  {
   "metadata": {},
   "cell_type": "code",
   "outputs": [],
   "execution_count": null,
   "source": "",
   "id": "87d0d70280c6cea7"
  }
 ],
 "metadata": {
  "kernelspec": {
   "name": "python3",
   "language": "python",
   "display_name": "Python 3 (ipykernel)"
  }
 },
 "nbformat": 4,
 "nbformat_minor": 5
}
